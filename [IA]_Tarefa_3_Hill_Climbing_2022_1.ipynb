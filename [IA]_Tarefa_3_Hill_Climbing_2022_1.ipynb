{
  "nbformat": 4,
  "nbformat_minor": 0,
  "metadata": {
    "colab": {
      "name": "[IA]_Tarefa_3_Hill_Climbing_2022_1.ipynb",
      "provenance": [],
      "collapsed_sections": []
    },
    "kernelspec": {
      "name": "python3",
      "display_name": "Python 3"
    },
    "language_info": {
      "name": "python"
    }
  },
  "cells": [
    {
      "cell_type": "markdown",
      "source": [
        "# **Inteligência Artificial - IC/UFRJ - 2022/1**\n",
        "## **Tarefa 3 - Hill Climbing**\n",
        "### Prof. João Carlos Pereira da Silva\n",
        "#### João Ricardo Campbell Maia (DRE: 116111909)\n",
        "#### Roberto Leonie Ferreira Moreira (DRE: 116062192)"
      ],
      "metadata": {
        "id": "Ofnsdp8oUtk9"
      }
    },
    {
      "cell_type": "markdown",
      "source": [
        "## **1. Modelagem**\n",
        "\n",
        "Inicialmente, será passada ao programa uma entrada $N$ da qual representa o tamanho do tabuleiro e do problema das $N$-rainhas.\n",
        "\n",
        "Nossa representação do tabuleiro será um *array* de $N$ elementos, do qual o valor contido no índice $i$ do *array* corresponderá a linha em que a $(i+1)$-rainha se encontra na configuração dada, uma vez que esta mesma rainha se encontra na coluna $(i+1)$ do tabuleiro."
      ],
      "metadata": {
        "id": "dCI5gVAxWFdS"
      }
    },
    {
      "cell_type": "markdown",
      "source": [
        "## **2. Implementação Base**\n",
        "\n",
        "### A. `tabuleiro(int N, int Q)`\n",
        "\n",
        "Esta função possui como entrada o tamanho $N$ do problema das $N$-rainhas e o número $Q$ de tabuleiros a ser gerados. Essas configurações iniciais possuem posições das rainhas geradas aleatoriamente.\n",
        "\n",
        "A função `tabuleiro()` retornará **uma lista de listas contendo $Q$ tabuleiros de tamanho $N$ x $N$ cada**, representados conforme descrito anteriormente no tópico 1. A função também retorna o número $Q$ de tabuleiros."
      ],
      "metadata": {
        "id": "GUuQeThZXMYK"
      }
    },
    {
      "cell_type": "code",
      "source": [
        "import random\n",
        "import matplotlib.pyplot as plt\n",
        "\n",
        "# retornar Q tabuleiros quadrados de tamanho N cada\n",
        "def tabuleiro(N, Q):\n",
        "  posicoes_das_rainhas = []\n",
        "  lista_de_tabuleiros = []\n",
        "\n",
        "  for i in range(0, Q):\n",
        "    for j in range(0, N):\n",
        "      # gerando numero aleatorialo no intervalo [1,N+1) e guardando na lista\n",
        "      posicoes_das_rainhas.append(random.randrange(1,N+1))\n",
        "    lista_de_tabuleiros.append(posicoes_das_rainhas)\n",
        "    # se faz necessario esvaziar a estrutura\n",
        "    posicoes_das_rainhas = []\n",
        "\n",
        "  return lista_de_tabuleiros"
      ],
      "metadata": {
        "id": "NChPOTPZYT30"
      },
      "execution_count": 327,
      "outputs": []
    },
    {
      "cell_type": "code",
      "source": [
        "tabuleiro(4, 4)"
      ],
      "metadata": {
        "colab": {
          "base_uri": "https://localhost:8080/"
        },
        "id": "wVZB5bHbYw05",
        "outputId": "ed7650b7-aa77-4043-bd2c-d260c654b1d8"
      },
      "execution_count": 328,
      "outputs": [
        {
          "output_type": "execute_result",
          "data": {
            "text/plain": [
              "[[2, 2, 4, 1], [3, 4, 1, 1], [1, 3, 2, 2], [1, 2, 1, 3]]"
            ]
          },
          "metadata": {},
          "execution_count": 328
        }
      ]
    },
    {
      "cell_type": "markdown",
      "source": [
        "### B. `todosVizinhos(T)`\n",
        "\n",
        "Inicialmente, precisamos armazenar um tabuleiro gerado anteriormente em uma variável auxiliar para que seja definido como parâmetro de entrada da função `todosVizinhos()`. \n",
        "\n",
        "Será necessária a criação de uma função auxiliar `geraTabuleiro(int N, int Q)`, da qual recebe como argumento o tamanho do problema das $N$-rainhas e a quantidade $Q$ de tabuleiros anteriormente gerados, retornando assim um destes tabuleiros escolhidos ao acaso."
      ],
      "metadata": {
        "id": "ZPh0ZYFVY_Ob"
      }
    },
    {
      "cell_type": "markdown",
      "source": [
        "No nosso caso, a variável auxiliar `tabuleiro_inicial` será passada como parâmetro de entrada da função `todosVizinhos()` de modo a obter todos os vizinhos da configuração de partida.\n",
        "\n",
        "Será criada uma estrutura global chamada `lista_de_vizinhos[]`. \n",
        "\n",
        "Também serão definidas as operações auxiliares de `cima(T)` e `baixo(T)`, **para que seja possível subir e descer**, respectivamente, com uma dada rainha do problema. Uma vez que nossa representação (*array*) inviabiliza dois valores para um mesmo índice (como em um *map*, por exemplo) duas ou mais rainhas em uma mesma coluna não são possíveis. Dessa forma, portanto, não serão necessárias as operações de `esquerda` e `direita` para mover as rainhas."
      ],
      "metadata": {
        "id": "hlaz5UoUcFTK"
      }
    },
    {
      "cell_type": "code",
      "source": [
        "# a funcao todosVizinhos(T)\n",
        "def todosVizinhos(tab):\n",
        "  N = len(tab)\n",
        "  neighbors = []\n",
        "  for i in range(1,N+1,1):\n",
        "    for j in range(1,N+1,1):\n",
        "      if tab[i-1] == j:\n",
        "        continue\n",
        "      else:\n",
        "        possibleState = tab.copy()\n",
        "        possibleState[i-1] = j\n",
        "        neighbors.append(possibleState)\n",
        "        \n",
        "  return neighbors\n",
        "  "
      ],
      "metadata": {
        "id": "6kE974XgeCbp"
      },
      "execution_count": 329,
      "outputs": []
    },
    {
      "cell_type": "markdown",
      "source": [
        "### C. `umVizinho(T)`\n",
        "\n",
        "Neste caso, inicialmente dada como **entrada um tabuleiro $T$**, será armazenado apenas **um dos vizinhos de T$** de modo a este ser obtido de maneira estocástica. Dessa forma, podemos novamente chamar a função `todosVizinhos()` dentro da função `umVizinho()`."
      ],
      "metadata": {
        "id": "hqOwShICfDiu"
      }
    },
    {
      "cell_type": "code",
      "source": [
        "import random\n",
        "\n",
        "def umVizinho(T):\n",
        "  \n",
        "  vizinhos = todosVizinhos(T)          # gerando todos os vizinhos da configuracao de entrada\n",
        "  aleatorio = random.randrange(0, len(vizinhos))   # sorteando um numero entre 0 e o numero de vizinhos de T\n",
        "  vizEscolhido = vizinhos[aleatorio]\n",
        "\n",
        "  return vizEscolhido"
      ],
      "metadata": {
        "id": "7vg16lTAgEWX"
      },
      "execution_count": 330,
      "outputs": []
    },
    {
      "cell_type": "markdown",
      "source": [
        "### D. `numeroAtaques()`\n",
        "\n",
        "A partir de um tabuleiro $T$ passado como **parâmetro de entrada**, esta função irá calcular **o número total de ataques mútuos entre cada uma das $N$-rainhas duas a duas.** Dessa forma, seu valor de **saída** é apenas um número, neste caso, o **número de ataques totais do tabuleiro.**\n",
        "\n",
        "É importante observar que apenas **será analisado ataques potenciais entre rainhas em uma mesma linha (posição horizontal) ou posição diagonal**, visto que **é impossível existir duas ou mais rainhas em uma mesma coluna na nossa representação.**\n",
        "\n",
        "Durante a elaboração de como resolver este problema, a dupla induziu o fato de que existe uma relação direta entre o **número de ataques entre rainhas na horizontal** e a **quantidade de vezes que um valor ocorre no nosso *array* de representação do tabuleiro**.\n",
        "\n",
        "Por exemplo, a partir da configuração de entrada\n",
        "\n",
        "\\begin{align}\n",
        "\\ [4, 3, 2, 2, 1, 3, 2, 5]\n",
        "\\end{align}\n",
        "\n",
        "temos ataques entre:\n",
        "\n",
        "1.   rainha$_{2,3}$ e rainha$_{2,4}$ \n",
        "2.   rainha$_{2,3}$ e rainha$_{2,7}$\n",
        "3.   rainha$_{2,4}$ e rainha$_{2,7}$\n",
        "4.   rainha$_{3,2}$ e rainha$_{3,6}$\n",
        "\n",
        "Totalizando, para esta configuração, **4 ataques na horizontal**. \n",
        "Note que isto pode ser considerado equivalente a quantidade de vezes que $2$ aparece no array - 1 (algo como um *count*) somado a quantidade de vezes que $3$ aparece no array - 1, de forma\n",
        "\n",
        "\\begin{align}\n",
        "\\ count(4) - 1 + count(3) - 1 + count(2) - 1 + count(1) - 1 + count(5) - 1 =\n",
        "\\ \\sum\\limits_{i=1}^{\\mbox{5}}(count(i) - i)\n",
        "\\end{align}\n",
        "\n",
        "em que, neste nosso caso, 5 é a quantidade de elementos que aparece **pelo menos uma vez** no *array*.\n",
        "\n",
        "Generalizando este somatório para um $L$, do qual $L$ é **o número de linhas distintas que são visitadas pelo menos uma vez por cada rainha**, temos\n",
        "\n",
        "\\begin{align}\n",
        "\\ \\sum\\limits_{i=1}^{\\mbox{L}}(count(i) - i)\n",
        "\\end{align}\n",
        "\n",
        "Todavia, durante a implementação foi analisado que **o programa perde corretude em número de ataques quando mais de duas rainhas estão posicionadas sobre uma mesma linha!** Neste caso, com **mais de duas rainhas em uma mesma linha**, temos\n",
        "\n",
        "\\begin{align}\n",
        "numeroAtaques =  \\sum\\limits_{i=1}^{\\mbox{L}}count(i)\n",
        "\\end{align}\n",
        "\n"
      ],
      "metadata": {
        "id": "gKLGqL5GhGKW"
      }
    },
    {
      "cell_type": "code",
      "source": [
        "def numeroAtaques(T):\n",
        "  # a variavel de retorno\n",
        "  numAtaques = 0\n",
        "\n",
        "  # variaveis auxiliares horizontal (linha) e diagonal\n",
        "  numAtaquesHoriz = 0\n",
        "  numAtaquesDiag = 0\n",
        "\n",
        "  # CALCULO DO NUMERO DE ATAQUES NA HORIZONTAL\n",
        "  # precisaremos armazenar o tamanho do tabuleiro inicial\n",
        "  N = len(T)\n",
        "\n",
        "  # para cada linha do tabuleiro de tamanho N\n",
        "  for lin in range(1, N+1):\n",
        "    # so podemos avaliar ataques \n",
        "    # se a linha do tabuleiro esta visitada por 2 ou mais ataques\n",
        "\n",
        "    # com duas rainhas na mesma linha\n",
        "    if(T.count(lin) == 2) :\n",
        "      numAtaquesHoriz += (T.count(lin) - 1)\n",
        "\n",
        "    # com mais de duas rainhas na mesma linha a situacao fica\n",
        "    # mais complicada: o numero de ataques entre as pecas deve ser\n",
        "    # EXATAMENTE O NUMERO DE RAINHAS NA MESMA LINHA!\n",
        "    if(T.count(lin) > 2) :\n",
        "      numAtaquesHoriz += T.count(lin)\n",
        "\n",
        "\n",
        "  # CALCULO DO NUMERO DE ATAQUES NA DIAGONAL\n",
        "  for i in range(0, (N-1)) :\n",
        "    for j in range((i+1), N):\n",
        "       # se |Qi - Qj| == |i-j|, eh um ataque em potencial\n",
        "        if(abs(T[i] - T[j]) == abs(i-j)) :\n",
        "          numAtaquesDiag += 1\n",
        "\n",
        "  # somando os ataques, temos\n",
        "  numAtaques = numAtaquesHoriz + numAtaquesDiag\n",
        "\n",
        "  return numAtaques"
      ],
      "metadata": {
        "id": "ovjFnpG2iPQc"
      },
      "execution_count": 331,
      "outputs": []
    },
    {
      "cell_type": "markdown",
      "source": [
        "## **3. Hill Climbing**\n",
        "\n",
        "Como o algoritmo de *Hill Climbing* é um algoritmo de **maximização**, estamos interessados em obter **o maior valor possível de uma determinada função de avaliação $f(n)$**. Sendo assim, uma vez que estamos interessados em obter uma configuração de tabuleiro que possua o **menor número de ataques entre rainhas**, seja a nossa função $f(n)$ da forma\n",
        "\n",
        "\\begin{align}\n",
        "\\ f(n) = -h(n)\n",
        "\\end{align}\n",
        "\n",
        "da qual desejamos maximizar $f$. \n",
        "\n",
        "Naturalmente, o maior valor possível de $f$ é $f(n) = 0$. Ou seja, uma configuração atingida da qual **não seja possível ter ataques entre nenhuma das rainhas duas a duas.**\n"
      ],
      "metadata": {
        "id": "gCZbQstuHzdN"
      }
    },
    {
      "cell_type": "markdown",
      "source": [
        "### A. Versão Primeira Escolha\n",
        "\n",
        "Nesta versão do algoritmo, o tabuleiro sucessor $T_{s}$ do tabuleiro corrente $T_{c}$ será o primeiro vizinho de $T_{c}$ que tem uma avaliação melhor.\n",
        "\n",
        "Assim, se a avaliação do tabuleiro corrente $T_{c}$ for igual a $h$, o primeiro tabuleiro vizinho de $T_{c}$ encontrado com avaliação menor que $h$ deve passar a ser o novo tabuleiro corrente.\n",
        "\n",
        "Usaremos a função `umVizinho(T)` para gerar **um único vizinho do nó $T_{c}$**. O programa encerra quando não houver nenhum vizinho que melhore a avaliação do nó corrente $T_{c}$.\n",
        "\n",
        "Logo, será criada a função `primeiraEscolha(T)` da qual **recebe como entrada um tabuleiro inicial $T$ e devolve como saída o melhor vizinho de um estado corrente com maior valor de $f$ (menor valor de $h$) obtido com a configuração dada ou os vizinhos dessa configuração.**\n"
      ],
      "metadata": {
        "id": "xGmh0KIfJkrt"
      }
    },
    {
      "cell_type": "code",
      "source": [
        "def primeiraEscolha(t):\n",
        "  neighbors = todosVizinhos(t) \n",
        "  random.shuffle(neighbors) # embaralhando a lista para garantir que a seleção é aleatória\n",
        "  h = numeroAtaques(t)\n",
        "  for board in neighbors:\n",
        "    if numeroAtaques(board) < h:\n",
        "      return board\n",
        "  else:\n",
        "    return t"
      ],
      "metadata": {
        "id": "d-qr-GZEUV9H"
      },
      "execution_count": 332,
      "outputs": []
    },
    {
      "cell_type": "code",
      "source": [
        "def HillClimbingPrimeiraEscolha(tab):\n",
        "  i = 0\n",
        "  while True:\n",
        "    i+= 1\n",
        "    h = numeroAtaques(tab)\n",
        "    valoresHeuristicas.append(-h) # append da funcao de avaliacao f(n) = -h(n) (maximizacao)\n",
        "    tab = primeiraEscolha(tab)\n",
        "    if numeroAtaques(tab) == h or numeroAtaques(tab) == 0:\n",
        "      break\n",
        "\n",
        "  valoresHeuristicas.append(-numeroAtaques(tab))\n",
        "  return tab"
      ],
      "metadata": {
        "id": "XG6jLqBsV0uh"
      },
      "execution_count": 333,
      "outputs": []
    },
    {
      "cell_type": "markdown",
      "source": [
        "### B. Versão Melhor Escolha\n",
        "\n",
        "Para esta versão, todos os tabuleiros vizinhos do tabuleiro corrente $T_{c}$\n",
        "são gerados e avaliados. O tabuleiro escolhido é aquele que possui **a melhor avaliação entre todos os tabuleiros vizinhos gerados.** \n",
        "\n",
        "O programa para quando não há mais nenhum vizinho que melhora a avaliação do nó (tabuleiro) corrente $T_{c}$."
      ],
      "metadata": {
        "id": "djqUNNdFp21H"
      }
    },
    {
      "cell_type": "code",
      "source": [
        "def melhorEscolha(t):\n",
        "  neighbors = todosVizinhos(t)\n",
        "  bestBoard = t\n",
        "  for board in neighbors:\n",
        "    if numeroAtaques(board) < numeroAtaques(bestBoard):\n",
        "      bestBoard = board\n",
        "  return bestBoard"
      ],
      "metadata": {
        "id": "1f1s6WdaVIGr"
      },
      "execution_count": 334,
      "outputs": []
    },
    {
      "cell_type": "code",
      "source": [
        "def HillClimbingMelhorEscolha(tab):\n",
        "  h = numeroAtaques(tab)\n",
        "  i = 0\n",
        "  while True:\n",
        "    i+=1\n",
        "    h = numeroAtaques(tab)\n",
        "    valoresHeuristicas.append(-h)\n",
        "    tab = melhorEscolha(tab)\n",
        "    if numeroAtaques(tab) == h or numeroAtaques(tab) == 0:\n",
        "      break\n",
        "  \n",
        "  valoresHeuristicas.append(-numeroAtaques(tab))\n",
        "  return tab"
      ],
      "metadata": {
        "id": "lnGpy_qUbWO2"
      },
      "execution_count": 335,
      "outputs": []
    },
    {
      "cell_type": "markdown",
      "source": [
        "### C. Análise\n",
        "Aqui, temos as seguintes premissas:\n",
        "\n",
        "\n",
        "*   O tabuleiro inicial é gerado usando a função `tabuleiro()`.\n",
        "*   A avaliação dos tabuleiros é feita através da função `numeroAtaques()`.\n",
        "*   A análise é feita para tamanhos de tabuleiro $4$, $8$, $16$ e $32$.\n",
        "\n",
        "Para o **Algoritmo de Hill Climbing de Primeira Escolha**, temos a seguinte análise:\n",
        "\n"
      ],
      "metadata": {
        "id": "OFaCkhquqi04"
      }
    },
    {
      "cell_type": "code",
      "source": [
        "%%time\n",
        "# É necessário o armazenamento dos valores das heuristicas em uma estrutura global\n",
        "valoresHeuristicas = []\n",
        "\n",
        "# ALGORITMO DE PRIMEIRA ESCOLHA:\n",
        "print(\"HILL CLIMBING PRIMEIRA ESCOLHA: \" + \"\\n\\n\")\n",
        "\n",
        "\n",
        "def plotaTabPE(N) :\n",
        "  primEscolha = 0\n",
        "  tabs = tabuleiro(N, 1)\n",
        "  print(\"Tabuleiro de tamanho \", N)\n",
        "\n",
        "  for tab in tabs:\n",
        "    if (numeroAtaques(HillClimbingPrimeiraEscolha(tab)) == 0):\n",
        "      primEscolha +=1\n",
        "\n",
        "\n",
        "  print(\"Soluções encontradas (ao fim): \",primEscolha,\"\\n\")\n",
        "  plt.plot(valoresHeuristicas)\n",
        "  plt.title('Tabuleiro de tamanho %d' % N)\n",
        "  plt.xlabel('Passos')\n",
        "  plt.ylabel('f(n) = -h(n)')\n",
        "  plt.show()\n",
        "  print(\"\\n\\n\")\n",
        "\n",
        "\n"
      ],
      "metadata": {
        "colab": {
          "base_uri": "https://localhost:8080/"
        },
        "id": "D3MWgJehX2OA",
        "outputId": "f6ef60cd-b154-4ccb-aa93-9d3c37c57a29"
      },
      "execution_count": 336,
      "outputs": [
        {
          "output_type": "stream",
          "name": "stdout",
          "text": [
            "HILL CLIMBING PRIMEIRA ESCOLHA: \n",
            "\n",
            "\n",
            "CPU times: user 878 µs, sys: 0 ns, total: 878 µs\n",
            "Wall time: 884 µs\n"
          ]
        }
      ]
    },
    {
      "cell_type": "code",
      "source": [
        "plotaTabPE(4) # plotagem da funcao de avaliacao do tabuleiro de dimensao 4\n",
        "valoresHeuristicas = [] # esvaziamento da estrutura global que armazena heuristicas"
      ],
      "metadata": {
        "colab": {
          "base_uri": "https://localhost:8080/",
          "height": 404
        },
        "id": "vDRCeX8Bl6yW",
        "outputId": "58ed428a-f42b-425a-fa0d-5c1e7c3db060"
      },
      "execution_count": 337,
      "outputs": [
        {
          "output_type": "stream",
          "name": "stdout",
          "text": [
            "Tabuleiro de tamanho  4\n",
            "Soluções encontradas (ao fim):  0 \n",
            "\n"
          ]
        },
        {
          "output_type": "display_data",
          "data": {
            "text/plain": [
              "<Figure size 432x288 with 1 Axes>"
            ],
            "image/png": "[encoded data removed]"
          },
          "metadata": {
            "needs_background": "light"
          }
        },
        {
          "output_type": "stream",
          "name": "stdout",
          "text": [
            "\n",
            "\n",
            "\n"
          ]
        }
      ]
    },
    {
      "cell_type": "code",
      "source": [
        "plotaTabPE(8)\n",
        "valoresHeuristicas = []"
      ],
      "metadata": {
        "colab": {
          "base_uri": "https://localhost:8080/",
          "height": 404
        },
        "id": "Jivneu84lzX9",
        "outputId": "3df1e224-9be7-43e8-b54d-dfb7c0c0b949"
      },
      "execution_count": 338,
      "outputs": [
        {
          "output_type": "stream",
          "name": "stdout",
          "text": [
            "Tabuleiro de tamanho  8\n",
            "Soluções encontradas (ao fim):  0 \n",
            "\n"
          ]
        },
        {
          "output_type": "display_data",
          "data": {
            "text/plain": [
              "<Figure size 432x288 with 1 Axes>"
            ],
            "image/png": "[encoded data removed]"
          },
          "metadata": {
            "needs_background": "light"
          }
        },
        {
          "output_type": "stream",
          "name": "stdout",
          "text": [
            "\n",
            "\n",
            "\n"
          ]
        }
      ]
    },
    {
      "cell_type": "code",
      "source": [
        "plotaTabPE(16)\n",
        "valoresHeuristicas = []"
      ],
      "metadata": {
        "colab": {
          "base_uri": "https://localhost:8080/",
          "height": 404
        },
        "id": "uvC4wgzKl2N8",
        "outputId": "419f8308-b553-408a-8eee-4ef7981b2135"
      },
      "execution_count": 339,
      "outputs": [
        {
          "output_type": "stream",
          "name": "stdout",
          "text": [
            "Tabuleiro de tamanho  16\n",
            "Soluções encontradas (ao fim):  0 \n",
            "\n"
          ]
        },
        {
          "output_type": "display_data",
          "data": {
            "text/plain": [
              "<Figure size 432x288 with 1 Axes>"
            ],
            "image/png": "[encoded data removed]"
          },
          "metadata": {
            "needs_background": "light"
          }
        },
        {
          "output_type": "stream",
          "name": "stdout",
          "text": [
            "\n",
            "\n",
            "\n"
          ]
        }
      ]
    },
    {
      "cell_type": "code",
      "source": [
        "plotaTabPE(32)\n",
        "valoresHeuristicas = []"
      ],
      "metadata": {
        "colab": {
          "base_uri": "https://localhost:8080/",
          "height": 404
        },
        "id": "nwN-RPdHl2MH",
        "outputId": "88d3e178-9070-4dca-cdc3-ed1634cd863c"
      },
      "execution_count": 340,
      "outputs": [
        {
          "output_type": "stream",
          "name": "stdout",
          "text": [
            "Tabuleiro de tamanho  32\n",
            "Soluções encontradas (ao fim):  0 \n",
            "\n"
          ]
        },
        {
          "output_type": "display_data",
          "data": {
            "text/plain": [
              "<Figure size 432x288 with 1 Axes>"
            ],
            "image/png": "[encoded data removed]"
          },
          "metadata": {
            "needs_background": "light"
          }
        },
        {
          "output_type": "stream",
          "name": "stdout",
          "text": [
            "\n",
            "\n",
            "\n"
          ]
        }
      ]
    },
    {
      "cell_type": "markdown",
      "source": [
        "**É importante observar que cada ponto de máximo (subida) representa a mudança de uma dimensão $N$ de tabuleiro para outro.**\n",
        "\n",
        "Já para o **Algoritmo de Hill Climbing de Melhor Escolha**, temos a seguinte análise:"
      ],
      "metadata": {
        "id": "40aPGhJ0jvAA"
      }
    },
    {
      "cell_type": "code",
      "source": [
        "%%time\n",
        "valoresHeuristicas = []\n",
        "\n",
        "# ALGORITMO DE MELHOR ESCOLHA:\n",
        "print(\"HILL CLIMBING MELHOR ESCOLHA: \" + \"\\n\\n\")\n",
        "\n",
        "\n",
        "def plotaTabME(N) :\n",
        "  melEscolha = 0\n",
        "  tabs = tabuleiro(N, 1)\n",
        "  print(\"Tabuleiro de tamanho \", N)\n",
        "\n",
        "  for tab in tabs:\n",
        "    if (numeroAtaques(HillClimbingMelhorEscolha(tab)) == 0):\n",
        "      melEscolha +=1\n",
        "\n",
        "\n",
        "  print(\"Soluções encontradas (ao fim): \",melEscolha,\"\\n\\n\")\n",
        "  plt.plot(valoresHeuristicas)\n",
        "  plt.title('Tabuleiro de tamanho %d' % N)\n",
        "  plt.xlabel('Passos')\n",
        "  plt.ylabel('f(n) = -h(n)')\n",
        "  plt.show()\n",
        "  print(\"\\n\\n\")\n"
      ],
      "metadata": {
        "colab": {
          "base_uri": "https://localhost:8080/"
        },
        "id": "YCiwFCcX3AVe",
        "outputId": "aa6da941-ad1d-4d15-b9ca-faaf10341ea8"
      },
      "execution_count": 341,
      "outputs": [
        {
          "output_type": "stream",
          "name": "stdout",
          "text": [
            "HILL CLIMBING MELHOR ESCOLHA: \n",
            "\n",
            "\n",
            "CPU times: user 1.4 ms, sys: 0 ns, total: 1.4 ms\n",
            "Wall time: 1.13 ms\n"
          ]
        }
      ]
    },
    {
      "cell_type": "code",
      "source": [
        "plotaTabME(4) # plotagem (Melhor Escolha) de tabuleiro de dimensao 4\n",
        "valoresHeuristicas = [] # esvaziamento da estrutura global\n"
      ],
      "metadata": {
        "colab": {
          "base_uri": "https://localhost:8080/",
          "height": 422
        },
        "id": "xRIUGqWInoK-",
        "outputId": "7f6491f2-df47-4ded-8ef2-1015ea4db43e"
      },
      "execution_count": 342,
      "outputs": [
        {
          "output_type": "stream",
          "name": "stdout",
          "text": [
            "Tabuleiro de tamanho  4\n",
            "Soluções encontradas (ao fim):  1 \n",
            "\n",
            "\n"
          ]
        },
        {
          "output_type": "display_data",
          "data": {
            "text/plain": [
              "<Figure size 432x288 with 1 Axes>"
            ],
            "image/png": "[encoded data removed]"
          },
          "metadata": {
            "needs_background": "light"
          }
        },
        {
          "output_type": "stream",
          "name": "stdout",
          "text": [
            "\n",
            "\n",
            "\n"
          ]
        }
      ]
    },
    {
      "cell_type": "code",
      "source": [
        "plotaTabME(8)\n",
        "valoresHeuristicas = []"
      ],
      "metadata": {
        "colab": {
          "base_uri": "https://localhost:8080/",
          "height": 422
        },
        "id": "33iRsE5nnwD1",
        "outputId": "2000769f-ab4c-4b89-bdb2-90bd12190302"
      },
      "execution_count": 343,
      "outputs": [
        {
          "output_type": "stream",
          "name": "stdout",
          "text": [
            "Tabuleiro de tamanho  8\n",
            "Soluções encontradas (ao fim):  0 \n",
            "\n",
            "\n"
          ]
        },
        {
          "output_type": "display_data",
          "data": {
            "text/plain": [
              "<Figure size 432x288 with 1 Axes>"
            ],
            "image/png": "[encoded data removed]"
          },
          "metadata": {
            "needs_background": "light"
          }
        },
        {
          "output_type": "stream",
          "name": "stdout",
          "text": [
            "\n",
            "\n",
            "\n"
          ]
        }
      ]
    },
    {
      "cell_type": "code",
      "source": [
        "plotaTabME(16)\n",
        "valoresHeuristicas = []"
      ],
      "metadata": {
        "colab": {
          "base_uri": "https://localhost:8080/",
          "height": 422
        },
        "id": "PYBV6qGVnzpM",
        "outputId": "f0381354-eddb-4314-e06d-3d134c84f7bc"
      },
      "execution_count": 344,
      "outputs": [
        {
          "output_type": "stream",
          "name": "stdout",
          "text": [
            "Tabuleiro de tamanho  16\n",
            "Soluções encontradas (ao fim):  0 \n",
            "\n",
            "\n"
          ]
        },
        {
          "output_type": "display_data",
          "data": {
            "text/plain": [
              "<Figure size 432x288 with 1 Axes>"
            ],
            "image/png": "[encoded data removed]"
          },
          "metadata": {
            "needs_background": "light"
          }
        },
        {
          "output_type": "stream",
          "name": "stdout",
          "text": [
            "\n",
            "\n",
            "\n"
          ]
        }
      ]
    },
    {
      "cell_type": "code",
      "source": [
        "plotaTabME(32)\n",
        "valoresHeuristicas = []"
      ],
      "metadata": {
        "colab": {
          "base_uri": "https://localhost:8080/",
          "height": 422
        },
        "id": "hGauxMZPn1aD",
        "outputId": "3dbfd3b8-b96e-491d-e411-b4e465a976fa"
      },
      "execution_count": 345,
      "outputs": [
        {
          "output_type": "stream",
          "name": "stdout",
          "text": [
            "Tabuleiro de tamanho  32\n",
            "Soluções encontradas (ao fim):  0 \n",
            "\n",
            "\n"
          ]
        },
        {
          "output_type": "display_data",
          "data": {
            "text/plain": [
              "<Figure size 432x288 with 1 Axes>"
            ],
            "image/png": "[encoded data removed]"
          },
          "metadata": {
            "needs_background": "light"
          }
        },
        {
          "output_type": "stream",
          "name": "stdout",
          "text": [
            "\n",
            "\n",
            "\n"
          ]
        }
      ]
    },
    {
      "cell_type": "markdown",
      "source": [
        "**É importante observar que cada ponto de máximo (subida) representa a mudança de uma dimensão $N$ de tabuleiro para outro.**"
      ],
      "metadata": {
        "id": "gCEFcnPjuMty"
      }
    },
    {
      "cell_type": "markdown",
      "source": [
        "### D. Considerações Finais\n",
        "\n",
        "A primeira coisa que percebemos é que a velocidade de convergência do **Algoritmo de *Melhor Escolha*** é **muito mais rápida**. Todavia, existe um **aumento significativo** quanto ao **tempo de execução** deste algoritmo, pois faz-se necessária a **avaliação de cada estado vizinho do tabuleiro corrente $T_{c}$**. Além disso, quando dimensões maiores $N$ de tabuleiros são escolhidas, esse aumento torna-se evidenciável de maneira exponencial.\n",
        "\n",
        "**Não foram encontradas diferenças significativas na probabilidade de se chegar a uma solução.** Ambas as implementações sugerem ficar no intervalo por volta de $15\\%$ para tabuleiros de dimensão $8$ (dimensões maiores não foram testadas pelo tempo de execução da versão de *Melhor Escolha*).\n",
        "\n",
        "Uma proposta da dupla é implementar **\"múltiplas execuções até chegar a uma solução\"**, visto que **não é intuitivo para uma função poder ou não retornar o resultado esperado.**"
      ],
      "metadata": {
        "id": "g3zmkTPzq5hr"
      }
    }
  ]
}