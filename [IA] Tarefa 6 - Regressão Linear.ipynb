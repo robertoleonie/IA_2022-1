{
  "nbformat": 4,
  "nbformat_minor": 0,
  "metadata": {
    "colab": {
      "name": "[IA] Tarefa 6 - Regressão Linear.ipynb",
      "provenance": [],
      "collapsed_sections": [
        "mDXC9mhra75B"
      ]
    },
    "kernelspec": {
      "name": "python3",
      "display_name": "Python 3"
    },
    "language_info": {
      "name": "python"
    }
  },
  "cells": [
    {
      "cell_type": "markdown",
      "source": [
        "# **Inteligência Artificial - IC/UFRJ - 2022/1**\n",
        "## **Tarefa 6 - Regressão Linear**\n",
        "### Prof. João Carlos Pereira da Silva\n",
        "#### Aluno: Roberto Leonie Ferreira Moreira (DRE: 116062192)"
      ],
      "metadata": {
        "id": "zCFs-P0I4fbi"
      }
    },
    {
      "cell_type": "markdown",
      "source": [
        "## **1. Regressão Linear**\n",
        "\n",
        "### Item A:\n",
        "\n",
        "Inicialmente, será refeito o exemplo de **regressão linear** dado de forma a utilizar o modelo de regressão implmentado pelo pacote `scikit.linear_model` da biblioteca `scikit`. Mas antes, precisamos trazer os nossos dados a serem explorados para **treinamento** e **teste** conforme mostrado na célula a seguir. Note que é necessária a anexação do arquivo intitulado *'exemplo.csv'*, que deve estar no mesmo diretório do *notebook*."
      ],
      "metadata": {
        "id": "qPj0zglm44N9"
      }
    },
    {
      "cell_type": "code",
      "source": [
        "import pandas as pd\n",
        "import numpy as np  # biblioteca que suporta arrays e matrizes multidimensionais - https://numpy.org/\n",
        "from sklearn import preprocessing # usado para preprocessar a base de dados (normalização)\n",
        "\n",
        "import matplotlib.pyplot as plt # biblioteca para plotar gráficos\n",
        "plt.rc(\"font\", size=14)\n",
        "\n",
        "import seaborn as sns # biblioteca de visualização de dados\n",
        "sns.set(style=\"white\")\n",
        "sns.set(style=\"whitegrid\", color_codes=True)\n",
        "\n",
        "data = pd.read_csv('exemplo.csv',header=0)\n",
        "print(data)\n",
        "\n",
        "# gráfico de dispersão - pode usar plt.plot(data['X'],data['Y'],'ro')\n",
        "plt.scatter(data['X'], data['Y'],cmap='red')\n",
        "\n",
        "# rótulo dos eixos e salvando o arquivo com a imagem\n",
        "plt.xlabel(\"Eixo X\")\n",
        "plt.ylabel(\"Eixo Y\")\n",
        "plt.savefig('pontos.png')\n",
        "plt.show()\n",
        "\n",
        "# transformando X e Y para numpy array. Ele precisa ser bidimensional (-1,1)\n",
        "X = data.iloc[:, 0].values.reshape(-1, 1) \n",
        "Y = data.iloc[:, 1].values.reshape(-1, 1) \n",
        "\n",
        "print(X)\n",
        "print(Y)"
      ],
      "metadata": {
        "colab": {
          "base_uri": "https://localhost:8080/",
          "height": 849
        },
        "id": "IdTDmkcR55t5",
        "outputId": "c9c275d3-bbba-447b-bd30-6fb063dd7260"
      },
      "execution_count": null,
      "outputs": [
        {
          "output_type": "stream",
          "name": "stdout",
          "text": [
            "           X           Y\n",
            "0  28.816847   60.854133\n",
            "1  35.757619   67.590670\n",
            "2  53.821076  110.762773\n",
            "3  58.215693  115.785785\n",
            "4  66.809748  125.311129\n",
            "5  78.252814  149.003866\n",
            "6  80.648697  159.619414\n",
            "7  81.296082  157.985286\n",
            "8  95.724162  197.179636\n",
            "9  99.958481  196.907397\n"
          ]
        },
        {
          "output_type": "display_data",
          "data": {
            "text/plain": [
              "<Figure size 432x288 with 1 Axes>"
            ],
            "image/png": "[encoded data removed]"
          },
          "metadata": {}
        },
        {
          "output_type": "stream",
          "name": "stdout",
          "text": [
            "[[28.81684742]\n",
            " [35.75761893]\n",
            " [53.82107634]\n",
            " [58.21569264]\n",
            " [66.80974831]\n",
            " [78.25281369]\n",
            " [80.64869706]\n",
            " [81.29608217]\n",
            " [95.72416241]\n",
            " [99.95848131]]\n",
            "[[ 60.85413282]\n",
            " [ 67.59066954]\n",
            " [110.76277271]\n",
            " [115.78578459]\n",
            " [125.31112852]\n",
            " [149.00386554]\n",
            " [159.61941373]\n",
            " [157.98528569]\n",
            " [197.17963609]\n",
            " [196.90739698]]\n"
          ]
        }
      ]
    },
    {
      "cell_type": "markdown",
      "source": [
        "Note que acima foram impressas as instâncias do nosso conjunto de dados (*dataset*): o atributo (ou *feature*) **X** e o objetivo **Y**. A partir deste conjunto de dados, **construiremos o nosso modelo de regressão**.\n",
        "\n",
        "Conforme o nome do método indica, queremos supor uma reta da forma $Y(x) = ax + b$ que melhor se ajusta ao *dataset*. Isto é, uma reta que possua coeficientes que minimizem uma função \n",
        "\n",
        "\\begin{align}\n",
        "erro(\\theta_0, \\theta_1)\n",
        "\\end{align}\n",
        "\n",
        "de duas variáveis. Desta forma, a nossa reta desejada será a mais justa possível."
      ],
      "metadata": {
        "id": "6NOukmpk67Yr"
      }
    },
    {
      "cell_type": "code",
      "source": [
        "from sklearn.linear_model import LinearRegression\n",
        "regressao = LinearRegression()\n",
        "regressao.fit(X,Y) # fazendo fit para 100% de treinamento e 0% de teste\n",
        "\n",
        "# se nenhum erro foi encontrado, o modelo de regressao \n",
        "# encontrou a reta de melhor ajuste."
      ],
      "metadata": {
        "colab": {
          "base_uri": "https://localhost:8080/"
        },
        "id": "LOhOKJbC-H3R",
        "outputId": "f862a67b-870d-48e9-9438-de47547f3484"
      },
      "execution_count": null,
      "outputs": [
        {
          "output_type": "execute_result",
          "data": {
            "text/plain": [
              "LinearRegression()"
            ]
          },
          "metadata": {},
          "execution_count": 1152
        }
      ]
    },
    {
      "cell_type": "markdown",
      "source": [
        "Sabemos que a nossa reta desejada tem a cara\n",
        "\n",
        "\\begin{align}\n",
        "y(x) = \\theta_1 x + \\theta_0\n",
        "\\end{align} .\n",
        "\n",
        "O modelo de **regressão linear** do pacote `scikit` nos retornará estes parâmetros *minimizantes* $\\theta_0$ e $\\theta_1$ através dos seguintes métodos:"
      ],
      "metadata": {
        "id": "KgtWoA1lDKOw"
      }
    },
    {
      "cell_type": "code",
      "source": [
        "theta0 = regressao.intercept_\n",
        "theta1 = regressao.coef_\n",
        "\n",
        "print(\"Theta 0 encontrado: %f\" % theta0)\n",
        "print(\"Theta 1 encontrado: %f\\n\\n\" % theta1)\n",
        "\n",
        "print(f'y(x) = {theta1} x + {theta0}\\n')\n",
        "\n",
        "# print(theta0, theta1)"
      ],
      "metadata": {
        "colab": {
          "base_uri": "https://localhost:8080/"
        },
        "id": "nO-uVZKJEN6d",
        "outputId": "7e8cae65-94b6-4b39-b75a-e4a66d30fd2d"
      },
      "execution_count": null,
      "outputs": [
        {
          "output_type": "stream",
          "name": "stdout",
          "text": [
            "Theta 0 encontrado: -0.088924\n",
            "Theta 1 encontrado: 1.975397\n",
            "\n",
            "\n",
            "y(x) = [[1.9753966]] x + [-0.0889236]\n",
            "\n"
          ]
        }
      ]
    },
    {
      "cell_type": "markdown",
      "source": [
        "Para entendermos o quão ajustada está a reta obtida, façamos uma plotagem.\n"
      ],
      "metadata": {
        "id": "9_iyLzNnF-l3"
      }
    },
    {
      "cell_type": "code",
      "source": [
        "import matplotlib.pyplot as plt\n",
        "\n",
        "# a funcao a ser plotada\n",
        "y_pred = (theta1 * X) + theta0\n",
        "\n",
        "plt.title(\"A reta de regressão\")\n",
        "plt.xlabel(\"Xi\")\n",
        "plt.ylabel(\"Yi (pred)\")\n",
        "plt.plot(X,y_pred,'r')\n",
        "\n",
        "# gráfico de dispersão - pode usar plt.plot(data['X'],data['Y'],'ro')\n",
        "plt.scatter(data['X'], data['Y'],cmap='red')\n",
        "\n",
        "plt.show()"
      ],
      "metadata": {
        "colab": {
          "base_uri": "https://localhost:8080/",
          "height": 301
        },
        "id": "V6KSoBdaF2oy",
        "outputId": "ac121b08-d5e9-4ce4-9af8-ed7dba46f6af"
      },
      "execution_count": null,
      "outputs": [
        {
          "output_type": "display_data",
          "data": {
            "text/plain": [
              "<Figure size 432x288 with 1 Axes>"
            ],
            "image/png": "[encoded data removed]"
          },
          "metadata": {}
        }
      ]
    },
    {
      "cell_type": "markdown",
      "source": [
        "Agora, gostaríamos de indicar qual o **erro quadrático médio** desta modelagem a partir destes parâmetros obtidos. Inicialmente, vamos importar os pacotes e bibliotecas necessários de `sklearn.metrics`."
      ],
      "metadata": {
        "id": "IjE49D7IFu1n"
      }
    },
    {
      "cell_type": "code",
      "source": [
        "from sklearn.metrics import mean_squared_error\n",
        "\n",
        "# calculando o erro quadratico medio entre\n",
        "# Y = Y real\n",
        "# y_pred = Y previsto\n",
        "eqm_inicial = mean_squared_error(Y, y_pred)\n",
        "print(eqm_inicial)"
      ],
      "metadata": {
        "colab": {
          "base_uri": "https://localhost:8080/"
        },
        "id": "OGbuZzcPItCO",
        "outputId": "d91ca44a-b4d0-4d55-8a05-f7456ca67e85"
      },
      "execution_count": null,
      "outputs": [
        {
          "output_type": "stream",
          "name": "stdout",
          "text": [
            "19.310387739177333\n"
          ]
        }
      ]
    },
    {
      "cell_type": "markdown",
      "source": [
        "Nota-se que o valor inicial (19.3103877) do erro quadrático médio está muito elevado para os determinados padrões (entre 0 e 1). Para que este valor seja minimizado, utilizaremos o algoritmo de **Gradiente Descendente**. Para isso, vamos importar o pacote `SGDRegressor` do pacote `sklearn.linear_model`."
      ],
      "metadata": {
        "id": "jThvtSMYJSSN"
      }
    },
    {
      "cell_type": "code",
      "source": [
        "from sklearn.linear_model import SGDRegressor"
      ],
      "metadata": {
        "id": "grj8ylksKRYg"
      },
      "execution_count": null,
      "outputs": []
    },
    {
      "cell_type": "markdown",
      "source": [
        "Para valores da taxa de aprendizado $\\alpha = \\{0.1, 0.01, 0.001\\}$, foram verificados os seguintes valores para os parâmetros de coeficiente ($\\theta_1$) e interceptação ($\\theta_0$):"
      ],
      "metadata": {
        "id": "9LAhv0SALT21"
      }
    },
    {
      "cell_type": "code",
      "source": [
        "def imprimeParametros(X,Y,learning_rate):\n",
        "  # eta0 eh a taxa de aprendizado inicial (learning rate)\n",
        "  sgd_reg = SGDRegressor(max_iter=1000,eta0=learning_rate)\n",
        "  sgd_reg.fit(X,Y.ravel())\n",
        "\n",
        "  theta0 = sgd_reg.intercept_\n",
        "  theta1 = sgd_reg.coef_\n",
        "\n",
        "  print(\"Theta 0 encontrado: %f\" % theta0)\n",
        "  print(\"Theta 1 encontrado: %f\\n\\n\" % theta1)\n",
        "\n",
        "  return theta0, theta1"
      ],
      "metadata": {
        "id": "zIivYrerLqvM"
      },
      "execution_count": null,
      "outputs": []
    },
    {
      "cell_type": "code",
      "source": [
        "theta0, theta1 = imprimeParametros(X,Y,.1)"
      ],
      "metadata": {
        "colab": {
          "base_uri": "https://localhost:8080/"
        },
        "id": "Gwa23VXGMKxr",
        "outputId": "c00e87b3-35f6-4d21-9945-085593fb6c30"
      },
      "execution_count": null,
      "outputs": [
        {
          "output_type": "stream",
          "name": "stdout",
          "text": [
            "Theta 0 encontrado: 17913797225.034328\n",
            "Theta 1 encontrado: 254013896824.048584\n",
            "\n",
            "\n"
          ]
        }
      ]
    },
    {
      "cell_type": "code",
      "source": [
        "theta0, theta1 = imprimeParametros(X,Y,.01)"
      ],
      "metadata": {
        "colab": {
          "base_uri": "https://localhost:8080/"
        },
        "id": "mW118xj0MMn6",
        "outputId": "7e50bfb1-6b2a-48e4-b6c2-f5b4136fea48"
      },
      "execution_count": null,
      "outputs": [
        {
          "output_type": "stream",
          "name": "stdout",
          "text": [
            "Theta 0 encontrado: -349129736.347074\n",
            "Theta 1 encontrado: -79505163194.456421\n",
            "\n",
            "\n"
          ]
        }
      ]
    },
    {
      "cell_type": "code",
      "source": [
        "theta0, theta1 = imprimeParametros(X,Y,.001)"
      ],
      "metadata": {
        "colab": {
          "base_uri": "https://localhost:8080/"
        },
        "id": "2OcVj0vpMQ7d",
        "outputId": "8ab5dddf-a8bc-4d42-ec3b-8e0bb5e51413"
      },
      "execution_count": null,
      "outputs": [
        {
          "output_type": "stream",
          "name": "stdout",
          "text": [
            "Theta 0 encontrado: 1864.661356\n",
            "Theta 1 encontrado: 178.249699\n",
            "\n",
            "\n"
          ]
        }
      ]
    },
    {
      "cell_type": "code",
      "source": [
        "theta0, theta1 = imprimeParametros(X,Y,.0001)"
      ],
      "metadata": {
        "colab": {
          "base_uri": "https://localhost:8080/"
        },
        "id": "xtkcJmTlMRoG",
        "outputId": "82e35317-e6ab-42a5-c124-394ab1992fca"
      },
      "execution_count": null,
      "outputs": [
        {
          "output_type": "stream",
          "name": "stdout",
          "text": [
            "Theta 0 encontrado: 0.025982\n",
            "Theta 1 encontrado: 1.984816\n",
            "\n",
            "\n"
          ]
        }
      ]
    },
    {
      "cell_type": "markdown",
      "source": [
        "Repare que somente a partir de $\\alpha = 0.0001$ que **os valores dos parâmetros de minimização começam a convergir.**\n",
        "\n",
        "A partir destes valores de parâmetro, podemos novamente tentar obter o valor do **erro quadrático médio**.\n",
        "\n",
        "Vamos antes, atualizar o valor da função \n",
        "\n",
        "\\begin{align}\n",
        "y(x) = \\theta_1 x + \\theta_0.\n",
        "\\end{align}"
      ],
      "metadata": {
        "id": "gjOUUbjmMkw6"
      }
    },
    {
      "cell_type": "code",
      "source": [
        "y_pred = (theta1 * X) + theta0\n",
        "eqm = mean_squared_error(Y, y_pred)\n",
        "print(eqm)"
      ],
      "metadata": {
        "colab": {
          "base_uri": "https://localhost:8080/"
        },
        "id": "1Dc6eWM_NoiA",
        "outputId": "e88a7978-177f-4610-96e2-b1a2cb18c941"
      },
      "execution_count": null,
      "outputs": [
        {
          "output_type": "stream",
          "name": "stdout",
          "text": [
            "19.925312051433647\n"
          ]
        }
      ]
    },
    {
      "cell_type": "markdown",
      "source": [
        "Vamos agora optar por uma abordagem diferente. Façamos a **divisão** do nosso conjunto de dados em **treinamento** ($70\\%$) e **teste** ($30\\%$)."
      ],
      "metadata": {
        "id": "mKvsGVvmOUIT"
      }
    },
    {
      "cell_type": "code",
      "source": [
        "# separando o conjunto de dados em 30% para teste\n",
        "from sklearn.model_selection import train_test_split\n",
        "X_train, X_test, y_train, y_test = train_test_split(X, Y, test_size = 0.3)\n",
        "\n",
        "# construindo o modelo de regressao\n",
        "regressao = LinearRegression()\n",
        "regressao.fit(X_train, y_train)\n",
        "\n",
        "theta0 = regressao.intercept_\n",
        "theta1 = regressao.coef_\n",
        "\n",
        "print(\"Theta 0 encontrado: %f\" % theta0)\n",
        "print(\"Theta 1 encontrado: %f\\n\\n\" % theta1)\n",
        "\n",
        "print(f'y(x) = {theta1} x + {theta0}\\n')"
      ],
      "metadata": {
        "colab": {
          "base_uri": "https://localhost:8080/"
        },
        "id": "iO6ke8G0O2yq",
        "outputId": "9a6bf6eb-3ccf-4f86-8180-3f1ca9a95fd8"
      },
      "execution_count": null,
      "outputs": [
        {
          "output_type": "stream",
          "name": "stdout",
          "text": [
            "Theta 0 encontrado: 1.027812\n",
            "Theta 1 encontrado: 1.942089\n",
            "\n",
            "\n",
            "y(x) = [[1.94208855]] x + [1.02781151]\n",
            "\n"
          ]
        }
      ]
    },
    {
      "cell_type": "markdown",
      "source": [
        "Para entendermos o quão ajustada está a reta obtida, façamos uma plotagem.\n"
      ],
      "metadata": {
        "id": "IAnIPgffPj4V"
      }
    },
    {
      "cell_type": "code",
      "source": [
        "import matplotlib.pyplot as plt\n",
        "\n",
        "# a funcao a ser plotada para previsao para TESTE\n",
        "y_pred = (theta1 * X_test) + theta0\n",
        "\n",
        "plt.title(\"A reta de regressão (70% treinamento, 30% teste)\")\n",
        "plt.xlabel(\"Xi test\")\n",
        "plt.ylabel(\"Yi pred\")\n",
        "plt.plot(X_test,y_pred,'r')\n",
        "\n",
        "# gráfico de dispersão - pode usar plt.plot(data['X'],data['Y'],'ro')\n",
        "plt.scatter(data['X'], data['Y'],cmap='red')\n",
        "\n",
        "plt.show()"
      ],
      "metadata": {
        "colab": {
          "base_uri": "https://localhost:8080/",
          "height": 301
        },
        "outputId": "084c8a0b-7e4d-4fab-c1cb-5b1bebdc53c2",
        "id": "Hrc-8WJRPj4W"
      },
      "execution_count": null,
      "outputs": [
        {
          "output_type": "display_data",
          "data": {
            "text/plain": [
              "<Figure size 432x288 with 1 Axes>"
            ],
            "image/png": "[encoded data removed]"
          },
          "metadata": {}
        }
      ]
    },
    {
      "cell_type": "markdown",
      "source": [
        "Para encontrar o **erro quadrático médio** para a divisão de **$70\\%$ treinamento** e **$30\\%$ teste**, temos:"
      ],
      "metadata": {
        "id": "KBKhvb8VP1ix"
      }
    },
    {
      "cell_type": "code",
      "source": [
        "# calculando o erro quadratico medio entre\n",
        "# Y = Y real\n",
        "# y_pred = Y previsto\n",
        "eqm_inicial = mean_squared_error(y_test, y_pred)\n",
        "print(eqm_inicial)"
      ],
      "metadata": {
        "colab": {
          "base_uri": "https://localhost:8080/"
        },
        "id": "rwllN_m6QCU8",
        "outputId": "92ac83d7-7789-45ed-ce31-f68c788d80b2"
      },
      "execution_count": null,
      "outputs": [
        {
          "output_type": "stream",
          "name": "stdout",
          "text": [
            "49.3749511082166\n"
          ]
        }
      ]
    },
    {
      "cell_type": "markdown",
      "source": [
        "Verificamos mais uma vez que o erro quadrático médio se encontra **muito elevado.**\n",
        "\n",
        "Infelizmente, percebemos que o erro quadrático médio se encontra elevado por demais, então provavelmente algum procedimento errado está sendo realizado."
      ],
      "metadata": {
        "id": "85NdLB5MRHKw"
      }
    },
    {
      "cell_type": "markdown",
      "source": [
        "## **2. `multi.csv`**\n",
        "\n",
        "A base de dados `multi.csv` contém 4 features *X$_1$*, *X$_2$*, *X$_3$* e *X$_4$*, além de um atributom objetivo *X$_5$*.\n",
        "\n",
        "### Item A: Plotagem de gráficos\n",
        "\n",
        "Inicialmente, iremos carregar esta base de dados. É importante relembrar que o arquivo deve estar no mesmo diretório do *notebook* atual."
      ],
      "metadata": {
        "id": "oo--CCzARnLX"
      }
    },
    {
      "cell_type": "code",
      "source": [
        "data = pd.read_csv('multi.csv',header=0)\n",
        "print(data)"
      ],
      "metadata": {
        "colab": {
          "base_uri": "https://localhost:8080/"
        },
        "id": "y9hMyC2OSVIX",
        "outputId": "e186ff44-e0c3-4971-b996-28080ad692bc"
      },
      "execution_count": null,
      "outputs": [
        {
          "output_type": "stream",
          "name": "stdout",
          "text": [
            "      X1  X2    X3   X4    X5\n",
            "0   2017  12  2.75  5.3  1464\n",
            "1   2017  11  2.50  5.3  1394\n",
            "2   2017  10  2.50  5.3  1357\n",
            "3   2017   9  2.50  5.3  1293\n",
            "4   2017   8  2.50  5.4  1256\n",
            "5   2017   7  2.50  5.6  1254\n",
            "6   2017   6  2.50  5.5  1234\n",
            "7   2017   5  2.25  5.5  1195\n",
            "8   2017   4  2.25  5.5  1159\n",
            "9   2017   3  2.25  5.6  1167\n",
            "10  2017   2  2.00  5.7  1130\n",
            "11  2017   1  2.00  5.9  1075\n",
            "12  2016  12  2.00  6.0  1047\n",
            "13  2016  11  1.75  5.9   965\n",
            "14  2016  10  1.75  5.8   943\n",
            "15  2016   9  1.75  6.1   958\n",
            "16  2016   8  1.75  6.2   971\n",
            "17  2016   7  1.75  6.1   949\n",
            "18  2016   6  1.75  6.1   884\n",
            "19  2016   5  1.75  6.1   866\n",
            "20  2016   4  1.75  5.9   876\n",
            "21  2016   3  1.75  6.2   822\n",
            "22  2016   2  1.75  6.2   704\n",
            "23  2016   1  1.75  6.1   719\n"
          ]
        }
      ]
    },
    {
      "cell_type": "markdown",
      "source": [
        "Uma vez carregada a base de dados, podemos realizar as seguintes plotagens:\n",
        "\n",
        "$X_1$ x $X_5$"
      ],
      "metadata": {
        "id": "bsaD-0YESt02"
      }
    },
    {
      "cell_type": "code",
      "source": [
        "plt.scatter(data['X1'], data['X5'],cmap='red')\n",
        "\n",
        "# rótulo dos eixos e salvando o arquivo com a imagem\n",
        "plt.xlabel(\"X1\")\n",
        "plt.ylabel(\"X5\")\n",
        "# plt.savefig('pontos.png')\n",
        "plt.show()"
      ],
      "metadata": {
        "colab": {
          "base_uri": "https://localhost:8080/",
          "height": 288
        },
        "id": "wcU4JBuLS7mW",
        "outputId": "b84ac628-5750-4c2e-e1aa-6f83dd3580a2"
      },
      "execution_count": null,
      "outputs": [
        {
          "output_type": "display_data",
          "data": {
            "text/plain": [
              "<Figure size 432x288 with 1 Axes>"
            ],
            "image/png": "[encoded data removed]"
          },
          "metadata": {}
        }
      ]
    },
    {
      "cell_type": "markdown",
      "source": [
        "$X_2$ x $X_5$"
      ],
      "metadata": {
        "id": "QYJ3UsrBUER1"
      }
    },
    {
      "cell_type": "code",
      "source": [
        "plt.scatter(data['X2'], data['X5'],cmap='red')\n",
        "\n",
        "# rótulo dos eixos e salvando o arquivo com a imagem\n",
        "plt.xlabel(\"X2\")\n",
        "plt.ylabel(\"X5\")\n",
        "# plt.savefig('pontos.png')\n",
        "plt.show()"
      ],
      "metadata": {
        "colab": {
          "base_uri": "https://localhost:8080/",
          "height": 288
        },
        "id": "qSfG73P-Ubes",
        "outputId": "004381c9-16fa-45f3-f655-13b0754095ef"
      },
      "execution_count": null,
      "outputs": [
        {
          "output_type": "display_data",
          "data": {
            "text/plain": [
              "<Figure size 432x288 with 1 Axes>"
            ],
            "image/png": "[encoded data removed]"
          },
          "metadata": {}
        }
      ]
    },
    {
      "cell_type": "markdown",
      "source": [
        "$X_3$ x $X_5$"
      ],
      "metadata": {
        "id": "jrDQ07BlUnrY"
      }
    },
    {
      "cell_type": "code",
      "source": [
        "plt.scatter(data['X3'], data['X5'],cmap='red')\n",
        "\n",
        "# rótulo dos eixos e salvando o arquivo com a imagem\n",
        "plt.xlabel(\"X3\")\n",
        "plt.ylabel(\"X5\")\n",
        "# plt.savefig('pontos.png')\n",
        "plt.show()"
      ],
      "metadata": {
        "colab": {
          "base_uri": "https://localhost:8080/",
          "height": 288
        },
        "id": "s5ymlzfKUqv9",
        "outputId": "11f141a0-a284-4fa1-9ac4-97e1de68abaa"
      },
      "execution_count": null,
      "outputs": [
        {
          "output_type": "display_data",
          "data": {
            "text/plain": [
              "<Figure size 432x288 with 1 Axes>"
            ],
            "image/png": "[encoded data removed]"
          },
          "metadata": {}
        }
      ]
    },
    {
      "cell_type": "markdown",
      "source": [
        "$X_4$ x $X_5$"
      ],
      "metadata": {
        "id": "_5p77DyuUwv9"
      }
    },
    {
      "cell_type": "code",
      "source": [
        "plt.scatter(data['X4'], data['X5'],cmap='red')\n",
        "\n",
        "# rótulo dos eixos e salvando o arquivo com a imagem\n",
        "plt.xlabel(\"X4\")\n",
        "plt.ylabel(\"X5\")\n",
        "# plt.savefig('pontos.png')\n",
        "plt.show()"
      ],
      "metadata": {
        "colab": {
          "base_uri": "https://localhost:8080/",
          "height": 288
        },
        "id": "LkR8uECbU2nE",
        "outputId": "e6e6c784-be71-409f-b6e2-c5e77d08674e"
      },
      "execution_count": null,
      "outputs": [
        {
          "output_type": "display_data",
          "data": {
            "text/plain": [
              "<Figure size 432x288 with 1 Axes>"
            ],
            "image/png": "[encoded data removed]"
          },
          "metadata": {}
        }
      ]
    },
    {
      "cell_type": "markdown",
      "source": [
        "Observando e analisando as plotagens dos gráficos, percebe-se que $X_4$ é a **feature mais justa** para pensar uma relação linear com o **atributo objetivo** $X_5$.\n",
        "\n",
        "Através do atributo $X_4$, utilizaremos o modelo de **regressão linear** do `scikit` e do conjunto de dados (aqui, $100\\%$ de **treinamento**) para que seja possível determinar **os coeficientes da equação de reta corrspondente**."
      ],
      "metadata": {
        "id": "AvyW24ZCVCpW"
      }
    },
    {
      "cell_type": "code",
      "source": [
        "# transformando X4 e X5 para numpy array. Ele precisa ser bidimensional (-1,1)\n",
        "X4 = data.iloc[:,3].values.reshape(-1, 1) \n",
        "X5 = data.iloc[:,4].values.reshape(-1, 1) \n",
        "\n",
        "# print(X4)\n",
        "# print(X5)\n",
        "\n",
        "regressao = LinearRegression()\n",
        "regressao.fit(X4,X5) # fazendo fit para 100% de treinamento e 0% de teste\n",
        "\n",
        "# obtendo os coeficientes da minha reta desejada\n",
        "theta0 = regressao.intercept_\n",
        "theta1 = regressao.coef_\n",
        "\n",
        "print(\"Theta 0 encontrado: %f\" % theta0)\n",
        "print(\"Theta 1 encontrado: %f\\n\\n\" % theta1)\n",
        "\n",
        "print(f'y(x) = {theta1} x + {theta0}\\n')\n",
        "\n",
        "# print(theta0, theta1)"
      ],
      "metadata": {
        "colab": {
          "base_uri": "https://localhost:8080/"
        },
        "id": "_4ytQlNrWLcd",
        "outputId": "b2dc46d2-403a-497c-fddc-d9c569f759e1"
      },
      "execution_count": null,
      "outputs": [
        {
          "output_type": "stream",
          "name": "stdout",
          "text": [
            "Theta 0 encontrado: 4471.339321\n",
            "Theta 1 encontrado: -588.962076\n",
            "\n",
            "\n",
            "y(x) = [[-588.96207585]] x + [4471.33932136]\n",
            "\n"
          ]
        }
      ]
    },
    {
      "cell_type": "markdown",
      "source": [
        "Note que os valores dos parâmetros encontrados parece um **pouco elevado**. Tentaremos minimizar o **erro quadrático médio** obtido para que encontremos valores de minimização mais justos.\n",
        "\n",
        "Primeiro, precisamos obter o **EQM** para este exemplo e modelo."
      ],
      "metadata": {
        "id": "Uq4gwkztXb5V"
      }
    },
    {
      "cell_type": "code",
      "source": [
        "x5_pred = (theta1 * X4) + theta0\n",
        "\n",
        "# calculando o erro quadratico medio entre\n",
        "# X5 = objetivo real\n",
        "# x5_pred = objetivo previsto\n",
        "ErroQM = mean_squared_error(X5, x5_pred)\n",
        "print(ErroQM)"
      ],
      "metadata": {
        "colab": {
          "base_uri": "https://localhost:8080/"
        },
        "id": "5FFNJtG4XxqQ",
        "outputId": "d2776b6a-605e-4dfe-ade5-a78a38a4c446"
      },
      "execution_count": null,
      "outputs": [
        {
          "output_type": "stream",
          "name": "stdout",
          "text": [
            "6353.776447105782\n"
          ]
        }
      ]
    },
    {
      "cell_type": "markdown",
      "source": [
        "Realizando plotagem, temos:"
      ],
      "metadata": {
        "id": "-cCyEqJ3aFyh"
      }
    },
    {
      "cell_type": "code",
      "source": [
        "plt.title(\"A reta de regressão\")\n",
        "plt.xlabel(\"X4\")\n",
        "plt.ylabel(\"X5 pred\")\n",
        "plt.plot(X4,x5_pred,'r')\n",
        "\n",
        "plt.scatter(data['X4'], data['X5'],cmap='red')\n",
        "\n",
        "plt.show()"
      ],
      "metadata": {
        "colab": {
          "base_uri": "https://localhost:8080/",
          "height": 301
        },
        "id": "3EuqcUJQaFAb",
        "outputId": "b8486d7d-2d05-43d3-b80e-7806f4f90054"
      },
      "execution_count": null,
      "outputs": [
        {
          "output_type": "display_data",
          "data": {
            "text/plain": [
              "<Figure size 432x288 with 1 Axes>"
            ],
            "image/png": "[encoded data removed]"
          },
          "metadata": {}
        }
      ]
    },
    {
      "cell_type": "markdown",
      "source": [
        "Note que, mais uma vez, o erro quadrático médio se encontra demasiadamente **elevado.** Tentaremos minimizá-lo através do algoritmo de **Gradiente Descedente.**"
      ],
      "metadata": {
        "id": "x_sRJX7kY1ZZ"
      }
    },
    {
      "cell_type": "code",
      "source": [
        "theta0, theta1 = imprimeParametros(X4,X5,.1)"
      ],
      "metadata": {
        "colab": {
          "base_uri": "https://localhost:8080/"
        },
        "id": "efhK_a21ZOQI",
        "outputId": "2b5b47b6-df5b-461b-dfcd-00eb8d0c2cb9"
      },
      "execution_count": null,
      "outputs": [
        {
          "output_type": "stream",
          "name": "stdout",
          "text": [
            "Theta 0 encontrado: 180.272622\n",
            "Theta 1 encontrado: 187.802254\n",
            "\n",
            "\n"
          ]
        }
      ]
    },
    {
      "cell_type": "code",
      "source": [
        "theta0, theta1 = imprimeParametros(X4,X5,.01)"
      ],
      "metadata": {
        "colab": {
          "base_uri": "https://localhost:8080/"
        },
        "id": "D8z9mS8YZY5K",
        "outputId": "95929c72-9fbc-4d49-e508-077c49cbd587"
      },
      "execution_count": null,
      "outputs": [
        {
          "output_type": "stream",
          "name": "stdout",
          "text": [
            "Theta 0 encontrado: 45.113466\n",
            "Theta 1 encontrado: 181.602554\n",
            "\n",
            "\n"
          ]
        }
      ]
    },
    {
      "cell_type": "code",
      "source": [
        "theta0, theta1 = imprimeParametros(X4,X5,.001)"
      ],
      "metadata": {
        "colab": {
          "base_uri": "https://localhost:8080/"
        },
        "id": "mFghjPIvZZ6n",
        "outputId": "ee39ba66-6b85-4a25-c3ca-800454b3b3cc"
      },
      "execution_count": null,
      "outputs": [
        {
          "output_type": "stream",
          "name": "stdout",
          "text": [
            "Theta 0 encontrado: 33.228337\n",
            "Theta 1 encontrado: 176.492387\n",
            "\n",
            "\n"
          ]
        }
      ]
    },
    {
      "cell_type": "code",
      "source": [
        "theta0, theta1 = imprimeParametros(X4,X5,.0001)"
      ],
      "metadata": {
        "colab": {
          "base_uri": "https://localhost:8080/"
        },
        "id": "n4xZbgbGZaj2",
        "outputId": "c52f4044-4baf-4dcd-d4fa-8cb7f7191e03"
      },
      "execution_count": null,
      "outputs": [
        {
          "output_type": "stream",
          "name": "stdout",
          "text": [
            "Theta 0 encontrado: 34.119197\n",
            "Theta 1 encontrado: 177.020892\n",
            "\n",
            "\n"
          ]
        },
        {
          "output_type": "stream",
          "name": "stderr",
          "text": [
            "/usr/local/lib/python3.7/dist-packages/sklearn/linear_model/_stochastic_gradient.py:1507: ConvergenceWarning: Maximum number of iteration reached before convergence. Consider increasing max_iter to improve the fit.\n",
            "  ConvergenceWarning,\n"
          ]
        }
      ]
    },
    {
      "cell_type": "markdown",
      "source": [
        "Para uma taxa de aprendizado $\\alpha = 0.0001$, os valores dos parâmetros encontrados foram\n",
        "\n",
        "\\begin{align}\n",
        "\\theta_0 = 34.124691 \\mbox{ e }\n",
        "\\theta_1 = 177.016233 \\mbox{.}\n",
        "\\end{align}\n",
        "\n",
        "Refazendo a equação agora para $y(x) = 177.016233x + 34.124691$, temos os seguintes procedimentos:"
      ],
      "metadata": {
        "id": "YvH1ZXShZilE"
      }
    },
    {
      "cell_type": "code",
      "source": [
        "# atualizando a funcao com os novos valores dos parametros\n",
        "x5_pred = (theta1 * X4) + theta0\n",
        "\n",
        "# calculando o erro quadratico medio entre\n",
        "# X5 = objetivo real\n",
        "# x5_pred = objetivo previsto\n",
        "ErroQM = mean_squared_error(X5, x5_pred)\n",
        "print(ErroQM)"
      ],
      "metadata": {
        "colab": {
          "base_uri": "https://localhost:8080/"
        },
        "id": "kdEiyR5VaXnu",
        "outputId": "720a9a09-b6f5-43b8-c169-733f86d771fe"
      },
      "execution_count": null,
      "outputs": [
        {
          "output_type": "stream",
          "name": "stdout",
          "text": [
            "67780.53798995927\n"
          ]
        }
      ]
    },
    {
      "cell_type": "markdown",
      "source": [
        "Repare que o **erro quadrático médio** aumentou e muito, explodiu. Uma catástrofe sem precedentes. Uma pantomima, uma patuscada, um devaneio, um sonho de uma noite de verão.\n",
        "\n",
        "Brincadeiras à parte, nem sempre o erro quadrático médio irá se reduzir."
      ],
      "metadata": {
        "id": "6Zmd_D40afDi"
      }
    },
    {
      "cell_type": "markdown",
      "source": [
        "### Item C:\n",
        "Por fim, iremos refazer a previsão através do modelo de regressão linear. Todavia, o nosso *dataset* será dividido em **treinamento** ($75\\%$) e **teste** ($25\\%$)."
      ],
      "metadata": {
        "id": "mDXC9mhra75B"
      }
    },
    {
      "cell_type": "code",
      "source": [
        "# dividindo o conjunto de dados para 25% de teste\n",
        "X4_train, X4_test, x5_train, x5_test = train_test_split(X4, X5, test_size = 0.25)\n",
        "\n",
        "# construindo o modelo de regressao\n",
        "regressao = LinearRegression()\n",
        "regressao.fit(X4_train, x5_train)\n",
        "\n",
        "theta0 = regressao.intercept_\n",
        "theta1 = regressao.coef_\n",
        "\n",
        "print(\"Theta 0 encontrado: %f\" % theta0)\n",
        "print(\"Theta 1 encontrado: %f\\n\\n\" % theta1)\n",
        "\n",
        "print(f'y(x) = {theta1} x + {theta0}\\n')"
      ],
      "metadata": {
        "colab": {
          "base_uri": "https://localhost:8080/"
        },
        "id": "udFlvtfsbcl4",
        "outputId": "9bc4fe35-f104-408d-9161-e0c44eb4bddb"
      },
      "execution_count": null,
      "outputs": [
        {
          "output_type": "stream",
          "name": "stdout",
          "text": [
            "Theta 0 encontrado: 4408.386336\n",
            "Theta 1 encontrado: -577.974607\n",
            "\n",
            "\n",
            "y(x) = [[-577.97460701]] x + [4408.38633615]\n",
            "\n"
          ]
        }
      ]
    },
    {
      "cell_type": "markdown",
      "source": [
        "Fazendo uma plotagem para entender a **reta** e o **modelo**, temos:"
      ],
      "metadata": {
        "id": "b5SABkjhbsdi"
      }
    },
    {
      "cell_type": "code",
      "source": [
        "# a funcao a ser plotada para previsao para TESTE\n",
        "x5_pred = (theta1 * X4_test) + theta0\n",
        "\n",
        "plt.title(\"A reta de regressão (75% treinamento, 25% teste)\")\n",
        "plt.xlabel(\"X4 test\")\n",
        "plt.ylabel(\"X5 pred\")\n",
        "plt.plot(X4_test,x5_pred,'r')\n",
        "\n",
        "# gráfico de dispersão - pode usar plt.plot(data['X'],data['Y'],'ro')\n",
        "plt.scatter(data['X4'], data['X5'],cmap='red')\n",
        "\n",
        "plt.show()"
      ],
      "metadata": {
        "colab": {
          "base_uri": "https://localhost:8080/",
          "height": 301
        },
        "id": "I157ZmCsb0uh",
        "outputId": "b24f2dd4-dbda-4e98-9512-e61753115cc0"
      },
      "execution_count": null,
      "outputs": [
        {
          "output_type": "display_data",
          "data": {
            "text/plain": [
              "<Figure size 432x288 with 1 Axes>"
            ],
            "image/png": "[encoded data removed]"
          },
          "metadata": {}
        }
      ]
    },
    {
      "cell_type": "markdown",
      "source": [
        "Para encontrar o **erro quadrático médio** para a divisão de **$75\\%$ treinamento** e **$25\\%$ teste**, temos:"
      ],
      "metadata": {
        "id": "eNPAk4XJc4v1"
      }
    },
    {
      "cell_type": "code",
      "source": [
        "# calculando o erro quadratico medio entre\n",
        "# X5 = objetivo real\n",
        "# x5_pred = objetivo previsto\n",
        "ErroQM = mean_squared_error(x5_test, x5_pred)\n",
        "print(ErroQM)"
      ],
      "metadata": {
        "colab": {
          "base_uri": "https://localhost:8080/"
        },
        "outputId": "4f0fa7be-5d5f-4102-e153-4bc56dca8a31",
        "id": "r_cXcFjec4v1"
      },
      "execution_count": null,
      "outputs": [
        {
          "output_type": "stream",
          "name": "stdout",
          "text": [
            "3721.133709176453\n"
          ]
        }
      ]
    },
    {
      "cell_type": "markdown",
      "source": [
        "Verificamos mais uma vez que o erro quadrático médio se encontra **muito elevado.**\n",
        "\n",
        "Infelizmente, percebemos que o erro quadrático médio se encontra elevado por demais, então provavelmente algum procedimento errado está sendo realizado."
      ],
      "metadata": {
        "id": "7qJDg6M5c4v2"
      }
    },
    {
      "cell_type": "markdown",
      "source": [
        "## **Referências:**\n",
        "\n",
        "1.   https://scikit-learn.org/stable/modules/generated/sklearn.linear_model.LinearRegression.html\n",
        "2.   https://scikit-learn.org/stable/modules/linear_model.html\n",
        "3.   https://stackabuse.com/linear-regression-in-python-with-scikit-learn/\n",
        "4.   https://scikit-learn.org/stable/modules/generated/sklearn.metrics.mean_squared_error.html\n",
        "5.   https://scikit-learn.org/stable/modules/generated/sklearn.linear_model.SGDRegressor.html\n",
        "\n",
        "\n",
        "\n"
      ],
      "metadata": {
        "id": "7-2kg5YZdbcY"
      }
    }
  ]
}